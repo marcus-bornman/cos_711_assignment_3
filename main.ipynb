{
  "nbformat": 4,
  "nbformat_minor": 0,
  "metadata": {
    "accelerator": "GPU",
    "colab": {
      "name": "Model",
      "provenance": [],
      "collapsed_sections": []
    },
    "kernelspec": {
      "display_name": "Python 3",
      "name": "python3"
    },
    "language_info": {
      "name": "python"
    }
  },
  "cells": [
    {
      "cell_type": "markdown",
      "metadata": {
        "id": "wifzT3LIDtMr"
      },
      "source": [
        "Install this package to load the dataset directly"
      ]
    },
    {
      "cell_type": "code",
      "metadata": {
        "id": "nFg4KDvAJJic"
      },
      "source": [
        "pip install -q git+https://github.com/eaedk/testing-zindi-package.git"
      ],
      "execution_count": 1,
      "outputs": []
    },
    {
      "cell_type": "markdown",
      "metadata": {
        "id": "S6ZNakhnwA5_"
      },
      "source": [
        "Install this package for hparam tuning"
      ]
    },
    {
      "cell_type": "code",
      "metadata": {
        "id": "IYJhUoBpwDHe"
      },
      "source": [
        "pip install -q -U keras-tuner"
      ],
      "execution_count": 2,
      "outputs": []
    },
    {
      "cell_type": "markdown",
      "metadata": {
        "id": "x5gfIC2sD88Y"
      },
      "source": [
        "Import everything that we need"
      ]
    },
    {
      "cell_type": "code",
      "metadata": {
        "id": "yzrPGGHOOxHY"
      },
      "source": [
        "from zindi.user import Zindian\n",
        "from tensorflow.keras.applications import ResNet50V2\n",
        "from tensorflow.keras.applications import VGG16\n",
        "from tensorflow.keras.layers import Flatten\n",
        "from tensorflow.keras.layers import Dropout\n",
        "from tensorflow.keras.layers import Dense\n",
        "from tensorflow.keras.layers import Input\n",
        "from tensorflow.keras.models import Model\n",
        "from tensorflow.keras.optimizers import Adam\n",
        "from tensorflow.keras.preprocessing.image import img_to_array\n",
        "from tensorflow.keras.preprocessing.image import load_img\n",
        "from tensorflow.keras.models import load_model\n",
        "from tensorflow.keras.utils import to_categorical\n",
        "from sklearn.preprocessing import LabelBinarizer\n",
        "from sklearn.model_selection import train_test_split\n",
        "from imutils import paths\n",
        "from tabulate import tabulate\n",
        "import pandas as pd\n",
        "import matplotlib.pyplot as plt\n",
        "import numpy as np\n",
        "import mimetypes\n",
        "import argparse\n",
        "import imutils\n",
        "import pickle\n",
        "import cv2\n",
        "import os\n",
        "import statistics\n",
        "import keras_tuner as kt\n",
        "import tensorflow as tf"
      ],
      "execution_count": 13,
      "outputs": []
    },
    {
      "cell_type": "markdown",
      "metadata": {
        "id": "D6YFubVvECHX"
      },
      "source": [
        "Sign in to Zindi account"
      ]
    },
    {
      "cell_type": "code",
      "metadata": {
        "colab": {
          "base_uri": "https://localhost:8080/"
        },
        "id": "2kGT-KzMO8ti",
        "outputId": "f2d96bf4-0e43-414e-ae57-6144492bad04"
      },
      "source": [
        "zindi_username = \"Marcus\"\n",
        "zindi_account = Zindian(username = zindi_username)"
      ],
      "execution_count": 4,
      "outputs": [
        {
          "output_type": "stream",
          "name": "stdout",
          "text": [
            "Your password\n",
            ">> ··········\n",
            "\n",
            "[ 🟢 ] 👋🏾👋🏾 Welcome Marcus 👋🏾👋🏾\n",
            "\n"
          ]
        }
      ]
    },
    {
      "cell_type": "markdown",
      "metadata": {
        "id": "pwvmW9ITEO96"
      },
      "source": [
        "Select the makerere-passion-fruit-disease-detection-challenge and show the details"
      ]
    },
    {
      "cell_type": "code",
      "metadata": {
        "colab": {
          "base_uri": "https://localhost:8080/",
          "height": 1000
        },
        "id": "KyAtwM93PiRv",
        "outputId": "46dd9c1b-fec9-487a-c378-d14799c1d1e2"
      },
      "source": [
        "zindi_account.select_a_challenge()\n",
        "zindi_account.which_challenge"
      ],
      "execution_count": 5,
      "outputs": [
        {
          "output_type": "stream",
          "name": "stdout",
          "text": [
            "__________________________________________________________________________________________________________________________________\n",
            "|     |              |                  |                    |          \n",
            "|index|  challenge   |     problem      |       reward       |    id    \n",
            "|     |              |                  |                    |          \n",
            "----------------------------------------------------------------------------------------------------------------------------------\n",
            "|  0  |Public Compet |  Classification  |     $5 000 USD     | kenyan-sign-language-classification-challenge...\n",
            "----------------------------------------------------------------------------------------------------------------------------------\n",
            "|  1  | Public Hack  |  Classification  |      $300 USD      | kenyan-sign-language-classification-hackathon...\n",
            "----------------------------------------------------------------------------------------------------------------------------------\n",
            "|  2  |Public Compet |  Classification  |     $7 500 USD     | bloodsai-blood-spectroscopy-classification-challen...\n",
            "----------------------------------------------------------------------------------------------------------------------------------\n",
            "|  3  |Public Compet |Automatic Speech R|     $3 000 USD     | mozilla-luganda-automatic-speech-recognition...\n",
            "----------------------------------------------------------------------------------------------------------------------------------\n",
            "|  4  |Public Compet |    Prediction    |     $3 000 USD     | zindi-user-behaviour-birthday-challenge...\n",
            "----------------------------------------------------------------------------------------------------------------------------------\n",
            "|  5  |Public Compet |  Classification  |     Knowledge      | road-segment-identification...\n",
            "----------------------------------------------------------------------------------------------------------------------------------\n",
            "|  6  |Public Compet |    Prediction    |     $1 000 USD     | expresso-churn-prediction...\n",
            "----------------------------------------------------------------------------------------------------------------------------------\n",
            "|  7  |Public Compet |  Classification  |     $1 000 USD     | makerere-passion-fruit-disease-detection-challenge...\n",
            "----------------------------------------------------------------------------------------------------------------------------------\n",
            "|  8  |Public Compet |  Classification  |    2000 Points     | gender-based-violence-tweet-classification-challen...\n",
            "----------------------------------------------------------------------------------------------------------------------------------\n",
            "|  9  |Public Compet |     Forecast     |     $8 800USD      | radiant-earth-spot-the-crop-challenge...\n",
            "----------------------------------------------------------------------------------------------------------------------------------\n",
            "| 10  |Public Compet |     Forecast     |     $8 800 USD     | radiant-earth-spot-the-crop-xl-challenge...\n",
            "----------------------------------------------------------------------------------------------------------------------------------\n",
            "| 11  |Public Compet |    Prediction    |     Knowledge      | local-ocean-conservation-sea-turtle-face-detection...\n",
            "----------------------------------------------------------------------------------------------------------------------------------\n",
            "| 12  |Public Compet |  Classification  |     Knowledge      | zindiweekendz-learning-to-vaccinate-or-not-to-vacc...\n",
            "----------------------------------------------------------------------------------------------------------------------------------\n",
            "| 13  |Public Compet |  Classification  |     Knowledge      | swahili-news-classification...\n",
            "----------------------------------------------------------------------------------------------------------------------------------\n",
            "| 14  |Public Compet |    Prediction    |     Knowledge      | zindiweekendz-learning-urban-air-pollution-challen...\n",
            "----------------------------------------------------------------------------------------------------------------------------------\n",
            "| 15  |Public Compet |  Classification  |     Knowledge      | zindiweekendz-learning-covid-19-tweet-classificati...\n",
            "----------------------------------------------------------------------------------------------------------------------------------\n",
            "| 16  |Public Compet |    Prediction    |     Knowledge      | zindiweekendz-learning-south-african-covid-19-vuln...\n",
            "----------------------------------------------------------------------------------------------------------------------------------\n",
            "| 17  |Public Compet | Computer Vision  |     Knowledge      | zindiweekendz-learning-spot-the-mask-challenge...\n",
            "----------------------------------------------------------------------------------------------------------------------------------\n",
            "| 18  |Public Compet |    Prediction    |     Knowledge      | tanzania-tourism-prediction...\n",
            "----------------------------------------------------------------------------------------------------------------------------------\n",
            "| 19  |Public Compet |    Prediction    |     Knowledge      | data-science-nigeria-2019-challenge-1-insurance-pr...\n",
            "----------------------------------------------------------------------------------------------------------------------------------\n",
            "| 20  |Public Compet |  Classification  |     Knowledge      | ai-hack-tunisia-1-computer-vision-challenge-1...\n",
            "----------------------------------------------------------------------------------------------------------------------------------\n",
            "| 21  |Public Compet |    Prediction    |     Knowledge      | ai-tunisia-hack-5-predictive-analytics-challenge-2...\n",
            "----------------------------------------------------------------------------------------------------------------------------------\n",
            "| 22  |Public Compet |  Classification  |     Knowledge      | ai-hack-tunisia-6-predictive-analytics-challenge-3...\n",
            "----------------------------------------------------------------------------------------------------------------------------------\n",
            "| 23  |Public Compet | Computer Vision  |     Knowledge      | ai-hack-tunisia-2-computer-vision-challenge-2...\n",
            "----------------------------------------------------------------------------------------------------------------------------------\n",
            "| 24  |Public Compet |  Classification  |     Knowledge      | ai-hack-tunisia-4-predictive-analytics-challenge-1...\n",
            "----------------------------------------------------------------------------------------------------------------------------------\n",
            "| 25  |Public Compet | Computer Vision  |     Knowledge      | miia-pothole-image-classification-challenge...\n",
            "----------------------------------------------------------------------------------------------------------------------------------\n",
            "| 26  |Public Compet | Computer Vision  |     Knowledge      | sbtic-animal-classification...\n",
            "----------------------------------------------------------------------------------------------------------------------------------\n",
            "| 27  |Public Compet |    Prediction    |     Knowledge      | financial-inclusion-in-africa...\n",
            "----------------------------------------------------------------------------------------------------------------------------------\n",
            "| 28  |Public Compet | Computer Vision  |     Knowledge      | cmu-africa-data-science-club-challenge-1-computer-...\n",
            "----------------------------------------------------------------------------------------------------------------------------------\n",
            "| 29  |Public Compet |    Prediction    |     Knowledge      | data-science-nigeria-challenge-2-recommendation-en...\n",
            "----------------------------------------------------------------------------------------------------------------------------------\n",
            "| 30  |Public Compet |    Prediction    |     Knowledge      | data-science-nigeria-challenge-1-loan-default-pred...\n",
            "----------------------------------------------------------------------------------------------------------------------------------\n",
            "| 31  | Public Hack  |                  |        $800        | coral-classification-challenge...\n",
            "----------------------------------------------------------------------------------------------------------------------------------\n",
            "| 32  | Public Hack  | Computer Vision  |      $300 USD      | marine-invertebrates-classification-challenge...\n",
            "----------------------------------------------------------------------------------------------------------------------------------\n",
            "| 33  | Public Hack  |  Classification  |      $300 USD      | road-segment-identification-challenge...\n",
            "----------------------------------------------------------------------------------------------------------------------------------\n",
            "| 34  | Public Hack  |  Classification  |     $1 000 USD     | amld...   \n",
            "----------------------------------------------------------------------------------------------------------------------------------\n",
            "| 35  | Public Hack  |  Classification  |      $300 USD      | gender-based-violence-tweet-classification...\n",
            "----------------------------------------------------------------------------------------------------------------------------------\n",
            "| 36  | Public Hack  |     Forecast     |        $300        | radiant-earth-spot-the-crop-hackathon...\n",
            "----------------------------------------------------------------------------------------------------------------------------------\n",
            "| 37  | Public Hack  |                  |      $700 USD      | silicon-valley-21st-century-education-hackathon...\n",
            "----------------------------------------------------------------------------------------------------------------------------------\n",
            "| 38  |Public Compet |    Prediction    |     $1 000 USD     | cryptocurrency-closing-price-prediction...\n",
            "----------------------------------------------------------------------------------------------------------------------------------\n",
            "| 39  |Public Compet |    Prediction    |     $5 000 USD     | sfc-paygo-solar-credit-repayment-competition...\n",
            "----------------------------------------------------------------------------------------------------------------------------------\n",
            "| 40  | Public Hack  |    Prediction    |      $300 USD      | sfc-paygo-solar-credit-repayment-hackathon...\n",
            "----------------------------------------------------------------------------------------------------------------------------------\n",
            "| 41  |Public Compet |  Visualisation   |     $5 000 USD     | afd-solutions-for-gender-based-violence-challenge...\n",
            "----------------------------------------------------------------------------------------------------------------------------------\n",
            "| 42  |Public Compet |    Prediction    |Scholarship worth $3| ix-mobile-banking-prediction-challenge...\n",
            "----------------------------------------------------------------------------------------------------------------------------------\n",
            "| 43  |Public Compet |  Visualisation   |     $1 500 USD     | deepfake-africa-challenge...\n",
            "----------------------------------------------------------------------------------------------------------------------------------\n",
            "| 44  |Public Compet |    Prediction    |     $1 000 USD     | airqo-low-cost-air-quality-monitor-calibration-cha...\n",
            "----------------------------------------------------------------------------------------------------------------------------------\n",
            "| 45  | Public Hack  |    Prediction    |      $250 USD      | airqo-air-sensor-calibration-challenge...\n",
            "----------------------------------------------------------------------------------------------------------------------------------\n",
            "| 46  |Public Compet |    Prediction    |    2000 Points     | economic-well-being-prediction-challenge...\n",
            "----------------------------------------------------------------------------------------------------------------------------------\n",
            "| 47  | Public Hack  |    Prediction    |     $1,000 USD     | womens-hackathon...\n",
            "----------------------------------------------------------------------------------------------------------------------------------\n",
            "| 48  |Public Compet |    Prediction    |    $10 000 USD     | lacuna-correct-field-detection-challenge...\n",
            "----------------------------------------------------------------------------------------------------------------------------------\n",
            "| 49  |Public Compet |    Prediction    |     $1 000 USD     | autoinland-vehicle-insurance-claim-challenge...\n",
            "----------------------------------------------------------------------------------------------------------------------------------\n",
            "| 50  |Public Compet |    Collection    |     $1 000 USD     | afd-gender-based-violence-dataset-collection-chall...\n",
            "----------------------------------------------------------------------------------------------------------------------------------\n",
            "| 51  |Public Compet |Automatic Speech R|     $2 000 USD     | ai4d-baamtu-datamation-automatic-speech-recognitio...\n",
            "----------------------------------------------------------------------------------------------------------------------------------\n",
            "| 52  |Public Compet |  Classification  |     $2 000 USD     | ai4d-malawi-news-classification-challenge...\n",
            "----------------------------------------------------------------------------------------------------------------------------------\n",
            "| 53  |Public Compet |   Translation    |     $2 000 USD     | ai4d-takwimu-lab-machine-translation-challenge...\n",
            "----------------------------------------------------------------------------------------------------------------------------------\n",
            "| 54  |Public Compet |   Translation    |     $2 000 USD     | ai4d-yoruba-machine-translation-challenge...\n",
            "----------------------------------------------------------------------------------------------------------------------------------\n",
            "| 55  |Public Compet |  Classification  |     $2 000 USD     | ai4d-icompass-social-media-sentiment-analysis-for-...\n",
            "----------------------------------------------------------------------------------------------------------------------------------\n",
            "| 56  |Public Compet |  Classification  |   Job Interview    | instadeep-enzyme-classification-challenge...\n",
            "----------------------------------------------------------------------------------------------------------------------------------\n",
            "| 57  |Public Compet |    Prediction    |     $3 000 USD     | cgiar-crop-yield-prediction-challenge...\n",
            "----------------------------------------------------------------------------------------------------------------------------------\n",
            "| 58  |Public Compet |    Prediction    |     $6 000 USD     | uber-nairobi-ambulance-perambulation-challenge...\n",
            "----------------------------------------------------------------------------------------------------------------------------------\n",
            "| 59  |Public Compet |  Classification  |     $7 000 USD     | giz-nlp-agricultural-keyword-spotter...\n",
            "----------------------------------------------------------------------------------------------------------------------------------\n",
            "| 60  |Public Compet | Computer Vision  |     $3 000 USD     | cgiar-wheat-growth-stage-challenge...\n",
            "----------------------------------------------------------------------------------------------------------------------------------\n",
            "| 61  |Public Compet |  Classification  | 2000 Zindi Points  | runmila-ai-institute-minohealth-ai-labs-tuberculos...\n",
            "----------------------------------------------------------------------------------------------------------------------------------\n",
            "| 62  |Public Compet |    Prediction    |    $25 000 USD     | usaids-intelligent-forecasting-challenge-model-fut...\n",
            "----------------------------------------------------------------------------------------------------------------------------------\n",
            "| 63  |Public Compet |    Prediction    |     $5 000 USD     | zimnat-insurance-recommendation-challenge...\n",
            "----------------------------------------------------------------------------------------------------------------------------------\n",
            "| 64  |Public Compet |Reinforcement Lear| 3000 Zindi Points  | indaba-grand-challenge-curing-leishmaniasis...\n",
            "----------------------------------------------------------------------------------------------------------------------------------\n",
            "| 65  | Public Hack  |    Prediction    |     Knowledge      | fighting-fire-with-data-hackathon...\n",
            "----------------------------------------------------------------------------------------------------------------------------------\n",
            "| 66  | Public Hack  |  Classification  |    225,000 Tsh     | swahili-news-classification-challenge...\n",
            "----------------------------------------------------------------------------------------------------------------------------------\n",
            "| 67  | Public Hack  | Computer Vision  |     $1,000 USD     | sansa-informal-settlements-in-south-africa...\n",
            "----------------------------------------------------------------------------------------------------------------------------------\n",
            "| 68  |Public Compet |    Collection    |     $6 000 USD     | ai4d-african-language-dataset-challenge...\n",
            "----------------------------------------------------------------------------------------------------------------------------------\n",
            "| 69  | Public Hack  |    Prediction    |      $300 USD      | the-zimnat-insurance-assurance-challenge...\n",
            "----------------------------------------------------------------------------------------------------------------------------------\n",
            "| 70  |Public Compet |    Prediction    |     $3 000 USD     | akeed-restaurant-recommendation-challenge...\n",
            "----------------------------------------------------------------------------------------------------------------------------------\n",
            "| 71  | Public Hack  |    Prediction    |      $300 USD      | akeed-restaurant-recommendation-hackathon...\n",
            "----------------------------------------------------------------------------------------------------------------------------------\n",
            "| 72  | Public Hack  |  Classification  |      $300 USD      | covid-19-tweet-classification-challenge...\n",
            "----------------------------------------------------------------------------------------------------------------------------------\n",
            "| 73  |Public Compet |  Classification  |     $4 200 USD     | basic-needs-basic-rights-kenya-tech4mentalhealth...\n",
            "----------------------------------------------------------------------------------------------------------------------------------\n",
            "| 74  | Public Hack  |  Classification  |      $300 USD      | to-vaccinate-or-not-to-vaccinate-its-not-a-questio...\n",
            "----------------------------------------------------------------------------------------------------------------------------------\n",
            "| 75  | Public Hack  | Computer Vision  |      $300 USD      | spot-the-mask-challenge...\n",
            "----------------------------------------------------------------------------------------------------------------------------------\n",
            "| 76  | Public Hack  |    Prediction    |      $300 USD      | urban-air-pollution-challenge...\n",
            "----------------------------------------------------------------------------------------------------------------------------------\n",
            "| 77  | Public Hack  |    Prediction    |      $300 USD      | south-african-covid-19-vulnerability-map...\n",
            "----------------------------------------------------------------------------------------------------------------------------------\n",
            "| 78  |Public Compet |  Visualisation   |     $3 195 USD     | animal-insights-challenge...\n",
            "----------------------------------------------------------------------------------------------------------------------------------\n",
            "| 79  |Public Compet |     Forecast     |     $5 000 USD     | airqo-ugandan-air-quality-forecast-challenge...\n",
            "----------------------------------------------------------------------------------------------------------------------------------\n",
            "| 80  |Public Compet |     Forecast     |     $5 000 USD     | predict-the-global-spread-of-covid-19...\n",
            "----------------------------------------------------------------------------------------------------------------------------------\n",
            "| 81  |Public Compet | Computer Vision  |     $5 000 USD     | iclr-workshop-challenge-2-radiant-earth-computer-v...\n",
            "----------------------------------------------------------------------------------------------------------------------------------\n",
            "| 82  |Public Compet | Computer Vision  |     $5 000 USD     | iclr-workshop-challenge-1-cgiar-computer-vision-fo...\n",
            "----------------------------------------------------------------------------------------------------------------------------------\n",
            "| 83  |Public Compet |  Classification  | 2000 Zindi Points  | fowl-escapades...\n",
            "----------------------------------------------------------------------------------------------------------------------------------\n",
            "| 84  |Public Compet |     Forecast     |    $10 000 USD     | 2030-vision-flood-prediction-in-malawi...\n",
            "----------------------------------------------------------------------------------------------------------------------------------\n",
            "| 85  |Public Compet |  Visualisation   |     $5 000 USD     | 2030-vision-data-visualization-and-reporting-chall...\n",
            "----------------------------------------------------------------------------------------------------------------------------------\n",
            "| 86  |Public Compet |     Forecast     | 2000 Zindi Points  | sea-turtle-rescue-forecast-challenge...\n",
            "----------------------------------------------------------------------------------------------------------------------------------\n",
            "| 87  |Public Compet |    Prediction    |     $5 000 USD     | womxn-in-big-data-south-africa-female-headed-house...\n",
            "----------------------------------------------------------------------------------------------------------------------------------\n",
            "| 88  |Public Compet |  Classification  | 2000 Zindi Points  | tic-heap-cirta-particle-classification-challenge...\n",
            "----------------------------------------------------------------------------------------------------------------------------------\n",
            "| 89  |Public Compet |    Prediction    |     $5 500 USD     | uber-movement-sanral-cape-town-challenge...\n",
            "----------------------------------------------------------------------------------------------------------------------------------\n",
            "| 90  |Public Compet |    Prediction    | 2000 Zindi Points  | sbtic-xente-credit-scoring-challenge...\n",
            "----------------------------------------------------------------------------------------------------------------------------------\n",
            "| 91  |Public Compet |Reinforcement Lear|     Knowledge      | ibm-malaria-challenge...\n",
            "----------------------------------------------------------------------------------------------------------------------------------\n",
            "| 92  |Public Compet |    Prediction    |     $7 000 USD     | sendy-logistics-challenge...\n",
            "----------------------------------------------------------------------------------------------------------------------------------\n",
            "| 93  |Public Compet |     Forecast     |     $8 000 USD     | wazihub-soil-moisture-prediction-challenge...\n",
            "----------------------------------------------------------------------------------------------------------------------------------\n",
            "| 94  |Public Compet |  Visualisation   |     $3 000 USD     | ai-art... \n",
            "----------------------------------------------------------------------------------------------------------------------------------\n",
            "| 95  |Public Compet |  Classification  |     $4 500 USD     | xente-fraud-detection-challenge...\n",
            "----------------------------------------------------------------------------------------------------------------------------------\n",
            "| 96  |Public Compet |     Forecast     | 2000 Zindi Points  | mtoto-news-childline-kenya-call-volume-prediction-...\n",
            "----------------------------------------------------------------------------------------------------------------------------------\n",
            "| 97  |Public Compet |    Prediction    |Cash and prizes wort| mobile-money-and-financial-inclusion-in-tanzania-c...\n",
            "----------------------------------------------------------------------------------------------------------------------------------\n",
            "| 98  |Public Compet |  Classification  |    $11 000 USD     | farm-pin-crop-detection-challenge...\n",
            "----------------------------------------------------------------------------------------------------------------------------------\n",
            "| 99  |Public Compet |  Classification  |Cash and prizes wort| sea-turtle-rescue-error-detection-challenge...\n",
            "----------------------------------------------------------------------------------------------------------------------------------\n",
            "| 100 |Public Compet |    Prediction    |  500 Zindi Points  | busara-mental-health-prediction-challenge...\n",
            "----------------------------------------------------------------------------------------------------------------------------------\n",
            "| 101 |Public Compet |    Prediction    |    $12 000 USD     | traffic-jam-predicting-peoples-movement-into-nairo...\n",
            "----------------------------------------------------------------------------------------------------------------------------------\n",
            "| 102 |Public Compet |  Classification  |     $1 000 USD     | sustainable-development-goals-sdgs-text-classifica...\n",
            "----------------------------------------------------------------------------------------------------------------------------------\n",
            "| 103 |Public Compet |    Prediction    |     $1 000 USD     | social-media-prediction-challenge...\n",
            "__________________________________________________________________________________________________________________________________\n",
            "\n",
            "\n",
            "Type the index of the challenge you want to select or 'q' to exit.\n",
            ">>7\n",
            "\n",
            "[ 🟢 ] You choose the challenge : makerere-passion-fruit-disease-detection-challenge,\n",
            "\tCan you identify which passion fruit are diseased and which are healthy?.\n",
            "\n",
            "\n",
            "[ 🟢 ] You are currently enrolled in : makerere-passion-fruit-disease-detection-challenge challenge,\n",
            "\tCan you identify which passion fruit are diseased and which are healthy?.\n",
            "\n"
          ]
        },
        {
          "output_type": "execute_result",
          "data": {
            "application/vnd.google.colaboratory.intrinsic+json": {
              "type": "string"
            },
            "text/plain": [
              "'makerere-passion-fruit-disease-detection-challenge'"
            ]
          },
          "metadata": {},
          "execution_count": 5
        }
      ]
    },
    {
      "cell_type": "markdown",
      "metadata": {
        "id": "Dt7EG_OEEfAL"
      },
      "source": [
        "Download and unzip the dataset"
      ]
    },
    {
      "cell_type": "code",
      "metadata": {
        "colab": {
          "base_uri": "https://localhost:8080/"
        },
        "id": "qBK97UK8P3_O",
        "outputId": "13b06848-3ce8-480e-f134-acf8c7e4f53e"
      },
      "source": [
        "zindi_account.download_dataset(destination=\"dataset\")\n",
        "!unzip 'dataset/Train_Images.zip' -d ''\n",
        "!unzip 'dataset/Test_Images.zip' -d ''"
      ],
      "execution_count": 6,
      "outputs": [
        {
          "output_type": "stream",
          "name": "stderr",
          "text": [
            "dataset/PassionfruitStarterNotebook.ipynb: 100%|██████████| 609k/609k [00:00<00:00, 12.7Mo/s]\n",
            "dataset/Test.csv: 100%|██████████| 10.9k/10.9k [00:00<00:00, 2.35Mo/s]\n",
            "dataset/Sample_submission.csv: 100%|██████████| 16.4k/16.4k [00:00<00:00, 3.99Mo/s]\n",
            "dataset/Train_Images.zip: 100%|██████████| 293M/293M [00:08<00:00, 35.2Mo/s]\n",
            "dataset/Test_Images.zip: 100%|██████████| 36.4M/36.4M [00:01<00:00, 35.2Mo/s]\n",
            "dataset/Train.csv: 100%|██████████| 192k/192k [00:00<00:00, 6.29Mo/s]\n"
          ]
        },
        {
          "output_type": "stream",
          "name": "stdout",
          "text": [
            "Archive:  dataset/Train_Images.zip\n",
            "replace __MACOSX/._Train_Images? [y]es, [n]o, [A]ll, [N]one, [r]ename: Archive:  dataset/Test_Images.zip\n",
            "replace __MACOSX/._Test_Images? [y]es, [n]o, [A]ll, [N]one, [r]ename: "
          ]
        }
      ]
    },
    {
      "cell_type": "markdown",
      "metadata": {
        "id": "S6wYfPTIFYEF"
      },
      "source": [
        "Create a data frame with the columns we need"
      ]
    },
    {
      "cell_type": "code",
      "metadata": {
        "id": "tHxUZbnHirqw",
        "colab": {
          "base_uri": "https://localhost:8080/",
          "height": 204
        },
        "outputId": "0449387c-bbdf-4fe3-e486-f77214c75dae"
      },
      "source": [
        "train_dir = 'dataset/Train.csv'\n",
        "test_dir = 'dataset/Test.csv'\n",
        "train_df = pd.read_csv(train_dir)\n",
        "test_df = pd.read_csv(test_dir)\n",
        "train_df['xmax'] = train_df['xmin']+train_df['width']\n",
        "train_df['ymax'] = train_df['ymin']+train_df['height']\n",
        "classes_la = {\"fruit_brownspot\": 1, \"fruit_healthy\": 2, \"fruit_woodiness\":3}\n",
        "classes_la = {\"fruit_brownspot\": 1, \"fruit_healthy\": 2, \"fruit_woodiness\":3}\n",
        "train_df[\"class\"] = train_df[\"class\"].apply(lambda x: classes_la[x])\n",
        "df = train_df.copy()\n",
        "df.drop('width', inplace=True, axis=1)\n",
        "df.drop('height', inplace=True, axis=1)\n",
        "df.head()"
      ],
      "execution_count": 6,
      "outputs": [
        {
          "output_type": "execute_result",
          "data": {
            "text/html": [
              "<div>\n",
              "<style scoped>\n",
              "    .dataframe tbody tr th:only-of-type {\n",
              "        vertical-align: middle;\n",
              "    }\n",
              "\n",
              "    .dataframe tbody tr th {\n",
              "        vertical-align: top;\n",
              "    }\n",
              "\n",
              "    .dataframe thead th {\n",
              "        text-align: right;\n",
              "    }\n",
              "</style>\n",
              "<table border=\"1\" class=\"dataframe\">\n",
              "  <thead>\n",
              "    <tr style=\"text-align: right;\">\n",
              "      <th></th>\n",
              "      <th>Image_ID</th>\n",
              "      <th>class</th>\n",
              "      <th>xmin</th>\n",
              "      <th>ymin</th>\n",
              "      <th>xmax</th>\n",
              "      <th>ymax</th>\n",
              "    </tr>\n",
              "  </thead>\n",
              "  <tbody>\n",
              "    <tr>\n",
              "      <th>0</th>\n",
              "      <td>ID_007FAIEI</td>\n",
              "      <td>3</td>\n",
              "      <td>87.0</td>\n",
              "      <td>87.5</td>\n",
              "      <td>315.0</td>\n",
              "      <td>398.5</td>\n",
              "    </tr>\n",
              "    <tr>\n",
              "      <th>1</th>\n",
              "      <td>ID_00G8K1V3</td>\n",
              "      <td>1</td>\n",
              "      <td>97.5</td>\n",
              "      <td>17.5</td>\n",
              "      <td>342.5</td>\n",
              "      <td>372.0</td>\n",
              "    </tr>\n",
              "    <tr>\n",
              "      <th>2</th>\n",
              "      <td>ID_00WROUT9</td>\n",
              "      <td>1</td>\n",
              "      <td>156.5</td>\n",
              "      <td>209.5</td>\n",
              "      <td>404.5</td>\n",
              "      <td>512.0</td>\n",
              "    </tr>\n",
              "    <tr>\n",
              "      <th>3</th>\n",
              "      <td>ID_00ZJEEK3</td>\n",
              "      <td>2</td>\n",
              "      <td>125.0</td>\n",
              "      <td>193.0</td>\n",
              "      <td>379.5</td>\n",
              "      <td>410.0</td>\n",
              "    </tr>\n",
              "    <tr>\n",
              "      <th>4</th>\n",
              "      <td>ID_018UIENR</td>\n",
              "      <td>1</td>\n",
              "      <td>79.5</td>\n",
              "      <td>232.5</td>\n",
              "      <td>313.0</td>\n",
              "      <td>414.5</td>\n",
              "    </tr>\n",
              "  </tbody>\n",
              "</table>\n",
              "</div>"
            ],
            "text/plain": [
              "      Image_ID  class   xmin   ymin   xmax   ymax\n",
              "0  ID_007FAIEI      3   87.0   87.5  315.0  398.5\n",
              "1  ID_00G8K1V3      1   97.5   17.5  342.5  372.0\n",
              "2  ID_00WROUT9      1  156.5  209.5  404.5  512.0\n",
              "3  ID_00ZJEEK3      2  125.0  193.0  379.5  410.0\n",
              "4  ID_018UIENR      1   79.5  232.5  313.0  414.5"
            ]
          },
          "metadata": {},
          "execution_count": 6
        }
      ]
    },
    {
      "cell_type": "markdown",
      "metadata": {
        "id": "fQfAKxkeF0p5"
      },
      "source": [
        "Initialize and populate our lists of data, labels, bounding boxes and image paths"
      ]
    },
    {
      "cell_type": "code",
      "metadata": {
        "id": "ZzWeiUK3oe-k"
      },
      "source": [
        "data = [] # list of images (in array form)\n",
        "labels = [] # list of labels for each image\n",
        "bboxes = [] # list of bounding boxes for each image\n",
        "imagePaths = [] # list of paths for each image\n",
        "\n",
        "df = df.to_numpy()\n",
        "df = df.tolist()\n",
        "for row in df:\n",
        "  imageId, label, startX, startY, endX, endY = row\n",
        "  imagePath = 'Train_Images/'+imageId + '.jpg'\n",
        "\n",
        "  #load image\n",
        "  image = cv2.imread(imagePath)\n",
        "  (h,w) = image.shape[:2]\n",
        "\n",
        "  #scale bounding boxes\n",
        "  startX  = float(startX) / w\n",
        "  startY  = float(startY) / h\n",
        "  endX  = float(endX) / w\n",
        "  endY  = float(endY) / h\n",
        "\n",
        "  #load and preproess image\n",
        "  image = load_img(imagePath, target_size=(224,224))\n",
        "  image = img_to_array(image)\n",
        "\n",
        "  #update\n",
        "  data.append(image)\n",
        "  labels.append(label)\n",
        "  bboxes.append((startX, startY, endX, endY))\n",
        "  imagePaths.append(imagePath)"
      ],
      "execution_count": 7,
      "outputs": []
    },
    {
      "cell_type": "markdown",
      "metadata": {
        "id": "DvLsdmcYHKeA"
      },
      "source": [
        "Some pre-processing - scale image data between 0 and 1 and perform binary one-hot encoding on labels. We also need to convert to numpy arrays"
      ]
    },
    {
      "cell_type": "code",
      "metadata": {
        "id": "CBDxRZFJrj8J"
      },
      "source": [
        "data = np.array(data, dtype='float32')/255.0\n",
        "labels = np.array(labels)\n",
        "bboxes = np.array(bboxes,dtype='float32')\n",
        "imagePaths = np.array(imagePaths)\n",
        "lb = LabelBinarizer()\n",
        "labels = lb.fit_transform(labels)"
      ],
      "execution_count": 8,
      "outputs": []
    },
    {
      "cell_type": "markdown",
      "metadata": {
        "id": "MHd1S2A2I1u8"
      },
      "source": [
        "Perform training and testing split and define dictionaries"
      ]
    },
    {
      "cell_type": "code",
      "metadata": {
        "id": "O2_SAEfqsGXd"
      },
      "source": [
        "split = train_test_split(data, labels, bboxes, imagePaths,\n",
        "\ttest_size=0.2, random_state=20)\n",
        "\n",
        "(trainImages, testImages) = split[:2]\n",
        "(trainLabels, testLabels) = split[2:4]\n",
        "(trainBBoxes, testBBoxes) = split[4:6]\n",
        "(trainPaths, testPaths) = split[6:]\n",
        "\n",
        "# a dictionary for our target training outputs\n",
        "trainTargets = {\n",
        "\t\"class_label\": trainLabels,\n",
        "\t\"bounding_box\": trainBBoxes\n",
        "}\n",
        "# a second dictionary, this one for our target testing outputs\n",
        "testTargets = {\n",
        "\t\"class_label\": testLabels,\n",
        "\t\"bounding_box\": testBBoxes\n",
        "}"
      ],
      "execution_count": 9,
      "outputs": []
    },
    {
      "cell_type": "markdown",
      "metadata": {
        "id": "KP1_BMc6JHZU"
      },
      "source": [
        "Define a function to build our model, given a set of hyper-parameters\n",
        "\n"
      ]
    },
    {
      "cell_type": "code",
      "metadata": {
        "id": "fDunmlxcsYdQ"
      },
      "source": [
        "def get_model(hp):\n",
        "\t# Choose an optimal value for the number of units in the first hidden layer\n",
        "\thp_first_units = hp.Int('first_units', min_value=16, max_value=64, step=16)\n",
        "\t# Choose an optimal value for the number of units in the second hidden layer\n",
        "\thp_second_units = hp.Int('second_units', min_value=16, max_value=64, step=16)\n",
        "\t# Choose an optimal value from 0.01, 0.001, or 0.0001 for the learning rate\n",
        "\thp_learning_rate = hp.Choice('learning_rate', values=[1e-2, 1e-3, 1e-4])\n",
        "\n",
        "\t# Convolutional layers\n",
        "\trn50v2 = ResNet50V2(weights=\"imagenet\", include_top=False,\n",
        "\t\tinput_tensor=Input(shape=(224, 224, 3)))\n",
        "\trn50v2.trainable = False\n",
        "\tflatten = rn50v2.output\n",
        "\tflatten = Flatten()(flatten)\n",
        "\n",
        "\t# branch for output of bounding box coordinates\n",
        "\tbboxHead = Dense(hp_first_units, activation=\"relu\")(flatten)\n",
        "\tbboxHead = Dense(hp_second_units, activation=\"relu\")(bboxHead)\n",
        "\tbboxHead = Dense(4, activation=\"sigmoid\", name=\"bounding_box\")(bboxHead)\n",
        "\n",
        "\t# branch for output of label\n",
        "\tsoftmaxHead = Dense(hp_first_units, activation=\"relu\")(flatten)\n",
        "\tsoftmaxHead = Dropout(0.5)(softmaxHead)\n",
        "\tsoftmaxHead = Dense(hp_second_units, activation=\"relu\")(softmaxHead)\n",
        "\tsoftmaxHead = Dropout(0.5)(softmaxHead)\n",
        "\tsoftmaxHead = Dense(len(lb.classes_), activation=\"softmax\", name=\"class_label\")(softmaxHead)\n",
        "\n",
        "\tmodel = Model(inputs=rn50v2.input, outputs=(bboxHead, softmaxHead))\n",
        "\tlosses = {\"class_label\": \"categorical_crossentropy\", \"bounding_box\": \"mean_squared_error\"}\n",
        "\tlossWeights = {\"class_label\": 1.0, \"bounding_box\": 1.0}\n",
        "\topt = Adam(learning_rate=hp_learning_rate)\n",
        "\tmodel.compile(loss=losses, optimizer=opt, metrics=[\"accuracy\"], loss_weights=lossWeights)\n",
        "\treturn model"
      ],
      "execution_count": 13,
      "outputs": []
    },
    {
      "cell_type": "markdown",
      "metadata": {
        "id": "2R2Gzg9mYPr9"
      },
      "source": [
        "Tune the hyper-parameters using the hyperband tuner"
      ]
    },
    {
      "cell_type": "code",
      "metadata": {
        "colab": {
          "base_uri": "https://localhost:8080/"
        },
        "id": "rHUSBRshY_Vs",
        "outputId": "e7c33df5-9ce5-433d-bfd9-387a564415b5"
      },
      "source": [
        "tuner = kt.Hyperband(get_model,\n",
        "                     objective='val_loss',\n",
        "                     max_epochs=10,\n",
        "                     factor=3,\n",
        "                     directory='hp_tuning',\n",
        "                     project_name='cos_711_assignment_3')\n",
        "stop_early = tf.keras.callbacks.EarlyStopping(monitor='val_loss', patience=5)\n",
        "tuner.search(trainImages, trainTargets,\n",
        "\tvalidation_data=(testImages, testTargets),\n",
        "\tbatch_size=32,\n",
        "\tepochs=10,\n",
        "\tverbose=1,\n",
        "  callbacks=[stop_early])\n",
        "\n",
        "best_hps=tuner.get_best_hyperparameters(num_trials=1)[0]\n",
        "\n",
        "tuner.results_summary()"
      ],
      "execution_count": 15,
      "outputs": [
        {
          "output_type": "stream",
          "name": "stdout",
          "text": [
            "Results summary\n",
            "Results in hp_tuning/cos_711_assignment_3\n",
            "Showing 10 best trials\n",
            "Objective(name='val_loss', direction='min')\n",
            "Trial summary\n",
            "Hyperparameters:\n",
            "first_units: 48\n",
            "second_units: 32\n",
            "learning_rate: 0.0001\n",
            "tuner/epochs: 10\n",
            "tuner/initial_epoch: 4\n",
            "tuner/bracket: 1\n",
            "tuner/round: 1\n",
            "tuner/trial_id: bfca5869210f551642f946e42c40b6d6\n",
            "Score: 0.20852258801460266\n",
            "Trial summary\n",
            "Hyperparameters:\n",
            "first_units: 48\n",
            "second_units: 64\n",
            "learning_rate: 0.0001\n",
            "tuner/epochs: 10\n",
            "tuner/initial_epoch: 4\n",
            "tuner/bracket: 2\n",
            "tuner/round: 2\n",
            "tuner/trial_id: cbca625c76a5a482752f5fbb3b73642e\n",
            "Score: 0.2089443951845169\n",
            "Trial summary\n",
            "Hyperparameters:\n",
            "first_units: 48\n",
            "second_units: 16\n",
            "learning_rate: 0.0001\n",
            "tuner/epochs: 10\n",
            "tuner/initial_epoch: 4\n",
            "tuner/bracket: 2\n",
            "tuner/round: 2\n",
            "tuner/trial_id: 5fbde85174911115070d12a21990b790\n",
            "Score: 0.29474472999572754\n",
            "Trial summary\n",
            "Hyperparameters:\n",
            "first_units: 48\n",
            "second_units: 48\n",
            "learning_rate: 0.0001\n",
            "tuner/epochs: 2\n",
            "tuner/initial_epoch: 0\n",
            "tuner/bracket: 2\n",
            "tuner/round: 0\n",
            "Score: 0.3611770570278168\n",
            "Trial summary\n",
            "Hyperparameters:\n",
            "first_units: 48\n",
            "second_units: 64\n",
            "learning_rate: 0.0001\n",
            "tuner/epochs: 2\n",
            "tuner/initial_epoch: 0\n",
            "tuner/bracket: 2\n",
            "tuner/round: 0\n",
            "Score: 0.39165499806404114\n",
            "Trial summary\n",
            "Hyperparameters:\n",
            "first_units: 48\n",
            "second_units: 64\n",
            "learning_rate: 0.0001\n",
            "tuner/epochs: 4\n",
            "tuner/initial_epoch: 2\n",
            "tuner/bracket: 2\n",
            "tuner/round: 1\n",
            "tuner/trial_id: 2cf59c958e9b9c249efb7ce343f744c0\n",
            "Score: 0.41488781571388245\n",
            "Trial summary\n",
            "Hyperparameters:\n",
            "first_units: 48\n",
            "second_units: 16\n",
            "learning_rate: 0.0001\n",
            "tuner/epochs: 4\n",
            "tuner/initial_epoch: 2\n",
            "tuner/bracket: 2\n",
            "tuner/round: 1\n",
            "tuner/trial_id: 10afd591ca98eefc3794e45a640c9bfd\n",
            "Score: 0.4380328059196472\n",
            "Trial summary\n",
            "Hyperparameters:\n",
            "first_units: 64\n",
            "second_units: 16\n",
            "learning_rate: 0.001\n",
            "tuner/epochs: 4\n",
            "tuner/initial_epoch: 0\n",
            "tuner/bracket: 1\n",
            "tuner/round: 0\n",
            "Score: 0.43831905722618103\n",
            "Trial summary\n",
            "Hyperparameters:\n",
            "first_units: 32\n",
            "second_units: 32\n",
            "learning_rate: 0.0001\n",
            "tuner/epochs: 2\n",
            "tuner/initial_epoch: 0\n",
            "tuner/bracket: 2\n",
            "tuner/round: 0\n",
            "Score: 0.4563002586364746\n",
            "Trial summary\n",
            "Hyperparameters:\n",
            "first_units: 48\n",
            "second_units: 16\n",
            "learning_rate: 0.0001\n",
            "tuner/epochs: 2\n",
            "tuner/initial_epoch: 0\n",
            "tuner/bracket: 2\n",
            "tuner/round: 0\n",
            "Score: 0.4714261293411255\n"
          ]
        }
      ]
    },
    {
      "cell_type": "markdown",
      "metadata": {
        "id": "tENESFSgJ9rb"
      },
      "source": [
        "Define function for best model now that we have the best hyper-parameters"
      ]
    },
    {
      "cell_type": "code",
      "metadata": {
        "id": "bGQ2cf7AKCVD"
      },
      "source": [
        "def best_model():\n",
        "\t# Choose an optimal value for the number of units in the first hidden layer\n",
        "\thp_first_units = 48\n",
        "\t# Choose an optimal value for the number of units in the second hidden layer\n",
        "\thp_second_units = 32\n",
        "\t# Choose an optimal value from 0.01, 0.001, or 0.0001 for the learning rate\n",
        "\thp_learning_rate = 1e-4\n",
        "\n",
        "\t# Convolutional layers\n",
        "\trn50v2 = ResNet50V2(weights=\"imagenet\", include_top=False,\n",
        "\t\tinput_tensor=Input(shape=(224, 224, 3)))\n",
        "\trn50v2.trainable = False\n",
        "\tflatten = rn50v2.output\n",
        "\tflatten = Flatten()(flatten)\n",
        "\n",
        "\t# branch for output of bounding box coordinates\n",
        "\tbboxHead = Dense(hp_first_units, activation=\"relu\")(flatten)\n",
        "\tbboxHead = Dense(hp_second_units, activation=\"relu\")(bboxHead)\n",
        "\tbboxHead = Dense(4, activation=\"sigmoid\", name=\"bounding_box\")(bboxHead)\n",
        "\n",
        "\t# branch for output of label\n",
        "\tsoftmaxHead = Dense(hp_first_units, activation=\"relu\")(flatten)\n",
        "\tsoftmaxHead = Dropout(0.5)(softmaxHead)\n",
        "\tsoftmaxHead = Dense(hp_second_units, activation=\"relu\")(softmaxHead)\n",
        "\tsoftmaxHead = Dropout(0.5)(softmaxHead)\n",
        "\tsoftmaxHead = Dense(len(lb.classes_), activation=\"softmax\", name=\"class_label\")(softmaxHead)\n",
        "\n",
        "\tmodel = Model(inputs=rn50v2.input, outputs=(bboxHead, softmaxHead))\n",
        "\tlosses = {\"class_label\": \"categorical_crossentropy\", \"bounding_box\": \"mean_squared_error\"}\n",
        "\tlossWeights = {\"class_label\": 1.0, \"bounding_box\": 1.0}\n",
        "\topt = Adam(learning_rate=hp_learning_rate)\n",
        "\tmodel.compile(loss=losses, optimizer=opt, metrics=[\"accuracy\"], loss_weights=lossWeights)\n",
        "\treturn model"
      ],
      "execution_count": 10,
      "outputs": []
    },
    {
      "cell_type": "markdown",
      "metadata": {
        "id": "PBiY_YkWT1cZ"
      },
      "source": [
        "Run tests using the best hyperparamters"
      ]
    },
    {
      "cell_type": "code",
      "metadata": {
        "colab": {
          "base_uri": "https://localhost:8080/"
        },
        "id": "Ye1yPP5ZT5Kj",
        "outputId": "9805d88d-56fb-41eb-8531-8100a2af0a23"
      },
      "source": [
        "histories = []\n",
        "for i in range(10):\n",
        "  tf.keras.backend.clear_session()\n",
        "  model = best_model()\n",
        "  history = model.fit(trainImages, trainTargets,validation_data=(testImages, testTargets),batch_size=32,epochs=10,verbose=1)\n",
        "  histories.append(history)"
      ],
      "execution_count": 11,
      "outputs": [
        {
          "output_type": "stream",
          "name": "stdout",
          "text": [
            "Epoch 1/10\n",
            "98/98 [==============================] - 61s 278ms/step - loss: 1.0303 - bounding_box_loss: 0.0354 - class_label_loss: 0.9949 - bounding_box_accuracy: 0.6021 - class_label_accuracy: 0.5755 - val_loss: 0.5086 - val_bounding_box_loss: 0.0269 - val_class_label_loss: 0.4817 - val_bounding_box_accuracy: 0.6419 - val_class_label_accuracy: 0.8555\n",
            "Epoch 2/10\n",
            "98/98 [==============================] - 24s 242ms/step - loss: 0.7384 - bounding_box_loss: 0.0233 - class_label_loss: 0.7150 - bounding_box_accuracy: 0.7017 - class_label_accuracy: 0.6917 - val_loss: 0.4115 - val_bounding_box_loss: 0.0282 - val_class_label_loss: 0.3832 - val_bounding_box_accuracy: 0.6586 - val_class_label_accuracy: 0.9066\n",
            "Epoch 3/10\n",
            "98/98 [==============================] - 24s 244ms/step - loss: 0.6425 - bounding_box_loss: 0.0212 - class_label_loss: 0.6213 - bounding_box_accuracy: 0.7372 - class_label_accuracy: 0.7340 - val_loss: 0.3055 - val_bounding_box_loss: 0.0284 - val_class_label_loss: 0.2771 - val_bounding_box_accuracy: 0.6982 - val_class_label_accuracy: 0.9297\n",
            "Epoch 4/10\n",
            "98/98 [==============================] - 24s 244ms/step - loss: 0.6004 - bounding_box_loss: 0.0198 - class_label_loss: 0.5807 - bounding_box_accuracy: 0.7484 - class_label_accuracy: 0.7401 - val_loss: 0.2491 - val_bounding_box_loss: 0.0293 - val_class_label_loss: 0.2199 - val_bounding_box_accuracy: 0.6803 - val_class_label_accuracy: 0.9425\n",
            "Epoch 5/10\n",
            "98/98 [==============================] - 24s 246ms/step - loss: 0.5208 - bounding_box_loss: 0.0187 - class_label_loss: 0.5021 - bounding_box_accuracy: 0.7711 - class_label_accuracy: 0.7705 - val_loss: 0.2192 - val_bounding_box_loss: 0.0297 - val_class_label_loss: 0.1895 - val_bounding_box_accuracy: 0.6957 - val_class_label_accuracy: 0.9463\n",
            "Epoch 6/10\n",
            "98/98 [==============================] - 24s 245ms/step - loss: 0.5022 - bounding_box_loss: 0.0182 - class_label_loss: 0.4840 - bounding_box_accuracy: 0.7778 - class_label_accuracy: 0.7673 - val_loss: 0.1798 - val_bounding_box_loss: 0.0303 - val_class_label_loss: 0.1495 - val_bounding_box_accuracy: 0.6841 - val_class_label_accuracy: 0.9604\n",
            "Epoch 7/10\n",
            "98/98 [==============================] - 24s 245ms/step - loss: 0.4642 - bounding_box_loss: 0.0175 - class_label_loss: 0.4467 - bounding_box_accuracy: 0.7900 - class_label_accuracy: 0.7916 - val_loss: 0.1834 - val_bounding_box_loss: 0.0311 - val_class_label_loss: 0.1523 - val_bounding_box_accuracy: 0.6752 - val_class_label_accuracy: 0.9527\n",
            "Epoch 8/10\n",
            "98/98 [==============================] - 24s 244ms/step - loss: 0.4105 - bounding_box_loss: 0.0174 - class_label_loss: 0.3932 - bounding_box_accuracy: 0.7891 - class_label_accuracy: 0.8140 - val_loss: 0.1755 - val_bounding_box_loss: 0.0309 - val_class_label_loss: 0.1445 - val_bounding_box_accuracy: 0.6957 - val_class_label_accuracy: 0.9540\n",
            "Epoch 9/10\n",
            "98/98 [==============================] - 24s 244ms/step - loss: 0.3715 - bounding_box_loss: 0.0170 - class_label_loss: 0.3545 - bounding_box_accuracy: 0.7913 - class_label_accuracy: 0.8268 - val_loss: 0.1642 - val_bounding_box_loss: 0.0309 - val_class_label_loss: 0.1333 - val_bounding_box_accuracy: 0.6893 - val_class_label_accuracy: 0.9616\n",
            "Epoch 10/10\n",
            "98/98 [==============================] - 24s 245ms/step - loss: 0.3544 - bounding_box_loss: 0.0168 - class_label_loss: 0.3376 - bounding_box_accuracy: 0.7843 - class_label_accuracy: 0.8281 - val_loss: 0.1537 - val_bounding_box_loss: 0.0327 - val_class_label_loss: 0.1210 - val_bounding_box_accuracy: 0.6777 - val_class_label_accuracy: 0.9629\n",
            "Epoch 1/10\n",
            "98/98 [==============================] - 30s 259ms/step - loss: 1.1074 - bounding_box_loss: 0.0422 - class_label_loss: 1.0652 - bounding_box_accuracy: 0.6572 - class_label_accuracy: 0.4914 - val_loss: 0.5556 - val_bounding_box_loss: 0.0326 - val_class_label_loss: 0.5230 - val_bounding_box_accuracy: 0.7059 - val_class_label_accuracy: 0.8517\n",
            "Epoch 2/10\n",
            "98/98 [==============================] - 24s 245ms/step - loss: 0.8246 - bounding_box_loss: 0.0274 - class_label_loss: 0.7972 - bounding_box_accuracy: 0.7151 - class_label_accuracy: 0.6488 - val_loss: 0.4390 - val_bounding_box_loss: 0.0308 - val_class_label_loss: 0.4081 - val_bounding_box_accuracy: 0.6816 - val_class_label_accuracy: 0.8926\n",
            "Epoch 3/10\n",
            "98/98 [==============================] - 24s 245ms/step - loss: 0.6644 - bounding_box_loss: 0.0237 - class_label_loss: 0.6407 - bounding_box_accuracy: 0.7378 - class_label_accuracy: 0.7065 - val_loss: 0.3646 - val_bounding_box_loss: 0.0334 - val_class_label_loss: 0.3312 - val_bounding_box_accuracy: 0.6675 - val_class_label_accuracy: 0.9220\n",
            "Epoch 4/10\n",
            "98/98 [==============================] - 24s 246ms/step - loss: 0.5982 - bounding_box_loss: 0.0208 - class_label_loss: 0.5774 - bounding_box_accuracy: 0.7612 - class_label_accuracy: 0.7401 - val_loss: 0.3164 - val_bounding_box_loss: 0.0338 - val_class_label_loss: 0.2826 - val_bounding_box_accuracy: 0.7020 - val_class_label_accuracy: 0.9284\n",
            "Epoch 5/10\n",
            "98/98 [==============================] - 24s 245ms/step - loss: 0.5450 - bounding_box_loss: 0.0196 - class_label_loss: 0.5254 - bounding_box_accuracy: 0.7647 - class_label_accuracy: 0.7698 - val_loss: 0.2463 - val_bounding_box_loss: 0.0341 - val_class_label_loss: 0.2122 - val_bounding_box_accuracy: 0.6969 - val_class_label_accuracy: 0.9514\n",
            "Epoch 6/10\n",
            "98/98 [==============================] - 24s 246ms/step - loss: 0.5043 - bounding_box_loss: 0.0185 - class_label_loss: 0.4858 - bounding_box_accuracy: 0.7862 - class_label_accuracy: 0.7961 - val_loss: 0.2155 - val_bounding_box_loss: 0.0352 - val_class_label_loss: 0.1803 - val_bounding_box_accuracy: 0.6777 - val_class_label_accuracy: 0.9540\n",
            "Epoch 7/10\n",
            "98/98 [==============================] - 24s 245ms/step - loss: 0.4661 - bounding_box_loss: 0.0178 - class_label_loss: 0.4483 - bounding_box_accuracy: 0.7807 - class_label_accuracy: 0.8147 - val_loss: 0.1876 - val_bounding_box_loss: 0.0355 - val_class_label_loss: 0.1521 - val_bounding_box_accuracy: 0.6752 - val_class_label_accuracy: 0.9604\n",
            "Epoch 8/10\n",
            "98/98 [==============================] - 24s 245ms/step - loss: 0.4189 - bounding_box_loss: 0.0173 - class_label_loss: 0.4016 - bounding_box_accuracy: 0.7980 - class_label_accuracy: 0.8326 - val_loss: 0.1706 - val_bounding_box_loss: 0.0353 - val_class_label_loss: 0.1353 - val_bounding_box_accuracy: 0.6701 - val_class_label_accuracy: 0.9591\n",
            "Epoch 9/10\n",
            "98/98 [==============================] - 24s 245ms/step - loss: 0.3852 - bounding_box_loss: 0.0172 - class_label_loss: 0.3681 - bounding_box_accuracy: 0.7932 - class_label_accuracy: 0.8431 - val_loss: 0.1631 - val_bounding_box_loss: 0.0361 - val_class_label_loss: 0.1271 - val_bounding_box_accuracy: 0.6739 - val_class_label_accuracy: 0.9540\n",
            "Epoch 10/10\n",
            "98/98 [==============================] - 24s 245ms/step - loss: 0.3479 - bounding_box_loss: 0.0168 - class_label_loss: 0.3310 - bounding_box_accuracy: 0.7990 - class_label_accuracy: 0.8598 - val_loss: 0.1396 - val_bounding_box_loss: 0.0359 - val_class_label_loss: 0.1037 - val_bounding_box_accuracy: 0.6995 - val_class_label_accuracy: 0.9591\n",
            "Epoch 1/10\n",
            "98/98 [==============================] - 31s 270ms/step - loss: 1.0118 - bounding_box_loss: 0.0442 - class_label_loss: 0.9675 - bounding_box_accuracy: 0.6402 - class_label_accuracy: 0.5535 - val_loss: 0.6188 - val_bounding_box_loss: 0.0281 - val_class_label_loss: 0.5906 - val_bounding_box_accuracy: 0.6573 - val_class_label_accuracy: 0.7084\n",
            "Epoch 2/10\n",
            "98/98 [==============================] - 24s 245ms/step - loss: 0.7608 - bounding_box_loss: 0.0252 - class_label_loss: 0.7357 - bounding_box_accuracy: 0.7353 - class_label_accuracy: 0.6287 - val_loss: 0.5198 - val_bounding_box_loss: 0.0280 - val_class_label_loss: 0.4919 - val_bounding_box_accuracy: 0.6624 - val_class_label_accuracy: 0.7174\n",
            "Epoch 3/10\n",
            "98/98 [==============================] - 24s 250ms/step - loss: 0.7326 - bounding_box_loss: 0.0214 - class_label_loss: 0.7112 - bounding_box_accuracy: 0.7564 - class_label_accuracy: 0.6482 - val_loss: 0.5049 - val_bounding_box_loss: 0.0282 - val_class_label_loss: 0.4767 - val_bounding_box_accuracy: 0.6675 - val_class_label_accuracy: 0.7225\n",
            "Epoch 4/10\n",
            "98/98 [==============================] - 24s 245ms/step - loss: 0.6659 - bounding_box_loss: 0.0197 - class_label_loss: 0.6462 - bounding_box_accuracy: 0.7702 - class_label_accuracy: 0.6783 - val_loss: 0.4640 - val_bounding_box_loss: 0.0291 - val_class_label_loss: 0.4349 - val_bounding_box_accuracy: 0.6816 - val_class_label_accuracy: 0.7199\n",
            "Epoch 5/10\n",
            "98/98 [==============================] - 24s 245ms/step - loss: 0.6080 - bounding_box_loss: 0.0187 - class_label_loss: 0.5893 - bounding_box_accuracy: 0.7814 - class_label_accuracy: 0.7100 - val_loss: 0.4608 - val_bounding_box_loss: 0.0298 - val_class_label_loss: 0.4311 - val_bounding_box_accuracy: 0.7097 - val_class_label_accuracy: 0.7187\n",
            "Epoch 6/10\n",
            "98/98 [==============================] - 24s 246ms/step - loss: 0.5935 - bounding_box_loss: 0.0183 - class_label_loss: 0.5753 - bounding_box_accuracy: 0.7814 - class_label_accuracy: 0.6997 - val_loss: 0.4446 - val_bounding_box_loss: 0.0303 - val_class_label_loss: 0.4142 - val_bounding_box_accuracy: 0.6637 - val_class_label_accuracy: 0.7263\n",
            "Epoch 7/10\n",
            "98/98 [==============================] - 24s 245ms/step - loss: 0.5982 - bounding_box_loss: 0.0176 - class_label_loss: 0.5806 - bounding_box_accuracy: 0.7929 - class_label_accuracy: 0.7100 - val_loss: 0.4144 - val_bounding_box_loss: 0.0303 - val_class_label_loss: 0.3841 - val_bounding_box_accuracy: 0.6662 - val_class_label_accuracy: 0.7276\n",
            "Epoch 8/10\n",
            "98/98 [==============================] - 24s 246ms/step - loss: 0.5675 - bounding_box_loss: 0.0169 - class_label_loss: 0.5505 - bounding_box_accuracy: 0.8019 - class_label_accuracy: 0.7238 - val_loss: 0.4100 - val_bounding_box_loss: 0.0317 - val_class_label_loss: 0.3783 - val_bounding_box_accuracy: 0.6816 - val_class_label_accuracy: 0.9361\n",
            "Epoch 9/10\n",
            "98/98 [==============================] - 24s 246ms/step - loss: 0.5444 - bounding_box_loss: 0.0164 - class_label_loss: 0.5280 - bounding_box_accuracy: 0.8003 - class_label_accuracy: 0.7558 - val_loss: 0.4071 - val_bounding_box_loss: 0.0324 - val_class_label_loss: 0.3747 - val_bounding_box_accuracy: 0.6816 - val_class_label_accuracy: 0.9412\n",
            "Epoch 10/10\n",
            "98/98 [==============================] - 24s 245ms/step - loss: 0.5326 - bounding_box_loss: 0.0164 - class_label_loss: 0.5162 - bounding_box_accuracy: 0.8127 - class_label_accuracy: 0.7638 - val_loss: 0.3949 - val_bounding_box_loss: 0.0322 - val_class_label_loss: 0.3627 - val_bounding_box_accuracy: 0.6880 - val_class_label_accuracy: 0.9309\n"
          ]
        }
      ]
    },
    {
      "cell_type": "markdown",
      "metadata": {
        "id": "H4u36gLd4Q4U"
      },
      "source": [
        "Tabulate the results based on accuracy"
      ]
    },
    {
      "cell_type": "code",
      "metadata": {
        "colab": {
          "base_uri": "https://localhost:8080/"
        },
        "id": "U6hNlEfU4T5N",
        "outputId": "6042e843-cbdb-4458-b988-5ed768654337"
      },
      "source": [
        "lblTrainingAcc = statistics.mean(history.history['class_label_accuracy'][-1] for history in histories)\n",
        "lblTrainingStd = statistics.stdev(history.history['class_label_accuracy'][-1] for history in histories)\n",
        "lblValidationAcc = statistics.mean(history.history['val_class_label_accuracy'][-1] for history in histories)\n",
        "lblValidationStd = statistics.stdev(history.history['val_class_label_accuracy'][-1] for history in histories)\n",
        "\n",
        "bbTrainingAcc = statistics.mean(history.history['bounding_box_accuracy'][-1] for history in histories)\n",
        "bbTrainingStd = statistics.stdev(history.history['bounding_box_accuracy'][-1] for history in histories)\n",
        "bbValidationAcc = statistics.mean(history.history['val_bounding_box_accuracy'][-1] for history in histories)\n",
        "bbValidationStd = statistics.stdev(history.history['val_bounding_box_accuracy'][-1] for history in histories)\n",
        "\n",
        "table = [[\"Class Label\",lblTrainingAcc,lblTrainingStd,lblValidationAcc,lblValidationStd],\n",
        "         [\"Bounding Box\",bbTrainingAcc,bbTrainingStd,bbValidationAcc,bbValidationStd]]\n",
        "\n",
        "print(tabulate(table, headers=[\"\",\"Training\\nAccuracy\", \"Training\\nσ\", \"Validation\\nAccuracy\", \"Validation\\nσ\"], tablefmt=\"fancy_grid\"))"
      ],
      "execution_count": 19,
      "outputs": [
        {
          "output_type": "stream",
          "name": "stdout",
          "text": [
            "╒══════════════╤════════════╤════════════╤══════════════╤══════════════╕\n",
            "│              │   Training │   Training │   Validation │   Validation │\n",
            "│              │   Accuracy │          σ │     Accuracy │            σ │\n",
            "╞══════════════╪════════════╪════════════╪══════════════╪══════════════╡\n",
            "│ Class Label  │   0.817222 │  0.0489317 │     0.95098  │    0.0174557 │\n",
            "├──────────────┼────────────┼────────────┼──────────────┼──────────────┤\n",
            "│ Bounding Box │   0.798656 │  0.0142473 │     0.688406 │    0.0108759 │\n",
            "╘══════════════╧════════════╧════════════╧══════════════╧══════════════╛\n"
          ]
        }
      ]
    },
    {
      "cell_type": "markdown",
      "metadata": {
        "id": "9MDoMW1GWYJB"
      },
      "source": [
        "What about loss? How did loss progress during training."
      ]
    },
    {
      "cell_type": "code",
      "metadata": {
        "colab": {
          "base_uri": "https://localhost:8080/",
          "height": 279
        },
        "id": "x0JL6DwFWY0g",
        "outputId": "45731e97-6ff5-4880-c0e0-85b1f7049836"
      },
      "source": [
        "lblHistoriesList = list(map(lambda x: x.history['class_label_loss'], histories))\n",
        "avgLblAccProgress = np.average(lblHistoriesList, axis=0)\n",
        "lblValHistoriesList = list(map(lambda x: x.history['val_class_label_loss'], histories))\n",
        "avgLblValAccProgress = np.average(lblValHistoriesList, axis=0)\n",
        "bbHistoriesList = list(map(lambda x: x.history['bounding_box_loss'], histories))\n",
        "avgBbAccProgress = np.average(bbHistoriesList, axis=0)\n",
        "bbValHistoriesList = list(map(lambda x: x.history['val_bounding_box_loss'], histories))\n",
        "avgBbValAccProgress = np.average(bbValHistoriesList, axis=0)\n",
        "\n",
        "plt.plot(avgLblAccProgress, label='Class Label Loss')\n",
        "plt.plot(avgLblValAccProgress, label='Class Label Val. Loss')\n",
        "plt.plot(avgBbAccProgress, label='Bounding Box Loss')\n",
        "plt.plot(avgBbValAccProgress, label='Bounding Box Val. Loss')\n",
        "plt.xlabel(\"epoch\")\n",
        "plt.ylabel(\"loss\")\n",
        "plt.legend()\n",
        "plt.show()"
      ],
      "execution_count": 23,
      "outputs": [
        {
          "output_type": "display_data",
          "data": {
            "image/png": "[encoded data removed]",
            "text/plain": [
              "<Figure size 432x288 with 1 Axes>"
            ]
          },
          "metadata": {
            "needs_background": "light"
          }
        }
      ]
    },
    {
      "cell_type": "markdown",
      "metadata": {
        "id": "UrIA87aYYSts"
      },
      "source": [
        "Create a submission for testing on Zindi"
      ]
    },
    {
      "cell_type": "code",
      "metadata": {
        "id": "upSGBSAdXu2m",
        "colab": {
          "base_uri": "https://localhost:8080/"
        },
        "outputId": "bb027f27-7803-45ef-f20e-a9daa386685d"
      },
      "source": [
        "model = best_model()\n",
        "history = model.fit(trainImages, trainTargets,validation_data=(testImages, testTargets),batch_size=32,epochs=10,verbose=1)\n",
        "test_images_dir = 'Test_Images/'\n",
        "test_df.head()\n",
        "testImageIds = test_df['Image_ID'].to_numpy().tolist()\n",
        "testImageIds\n",
        "ids = []\n",
        "label = []\n",
        "xmin = []\n",
        "confidence = []\n",
        "ymin =[]\n",
        "xmax= []\n",
        "ymax=[]\n",
        "count = 0\n",
        "for tid in testImageIds:\n",
        "  imagePath = test_images_dir+tid+'.jpg'\n",
        "  image = load_img(imagePath, target_size=(224,224))\n",
        "  image = img_to_array(image)\n",
        "  image = np.array(image, dtype='float32')/255.0\n",
        "  image = np.expand_dims(image,axis=0)\n",
        "  prediction = model.predict(image)\n",
        "  startX,startY,endX,endY = prediction[0][0]\n",
        "  image = cv2.imread(imagePath)\n",
        "  (h,w) = image.shape[:2]\n",
        "  xmin.append(startX*w)\n",
        "  ymin.append(startY*h)\n",
        "  xmax.append(endX*w)\n",
        "  ymax.append(endY*h)\n",
        "  ids.append(tid)\n",
        "  ce = np.amax(prediction[1][0])\n",
        "  confidence.append(ce)\n",
        "  idx = np.argmax(prediction[1][0])\n",
        "  classes = [\"fruit_brownspot\",\"fruit_healthy\",\"fruit_woodiness\"]\n",
        "  label.append(classes[idx])\n",
        "  count += 1\n",
        "#data transform"
      ],
      "execution_count": 25,
      "outputs": [
        {
          "output_type": "stream",
          "name": "stdout",
          "text": [
            "Epoch 1/10\n",
            "98/98 [==============================] - 29s 257ms/step - loss: 1.0802 - bounding_box_loss: 0.0395 - class_label_loss: 1.0407 - bounding_box_accuracy: 0.6354 - class_label_accuracy: 0.5637 - val_loss: 0.6400 - val_bounding_box_loss: 0.0321 - val_class_label_loss: 0.6079 - val_bounding_box_accuracy: 0.6726 - val_class_label_accuracy: 0.7852\n",
            "Epoch 2/10\n",
            "98/98 [==============================] - 24s 244ms/step - loss: 0.7917 - bounding_box_loss: 0.0259 - class_label_loss: 0.7658 - bounding_box_accuracy: 0.7013 - class_label_accuracy: 0.6975 - val_loss: 0.5514 - val_bounding_box_loss: 0.0291 - val_class_label_loss: 0.5224 - val_bounding_box_accuracy: 0.6445 - val_class_label_accuracy: 0.8414\n",
            "Epoch 3/10\n",
            "98/98 [==============================] - 24s 245ms/step - loss: 0.7418 - bounding_box_loss: 0.0225 - class_label_loss: 0.7193 - bounding_box_accuracy: 0.7286 - class_label_accuracy: 0.7561 - val_loss: 0.4898 - val_bounding_box_loss: 0.0303 - val_class_label_loss: 0.4595 - val_bounding_box_accuracy: 0.6586 - val_class_label_accuracy: 0.9015\n",
            "Epoch 4/10\n",
            "98/98 [==============================] - 24s 245ms/step - loss: 0.6674 - bounding_box_loss: 0.0207 - class_label_loss: 0.6467 - bounding_box_accuracy: 0.7513 - class_label_accuracy: 0.7932 - val_loss: 0.4840 - val_bounding_box_loss: 0.0306 - val_class_label_loss: 0.4534 - val_bounding_box_accuracy: 0.6496 - val_class_label_accuracy: 0.9054\n",
            "Epoch 5/10\n",
            "98/98 [==============================] - 24s 245ms/step - loss: 0.6139 - bounding_box_loss: 0.0195 - class_label_loss: 0.5944 - bounding_box_accuracy: 0.7650 - class_label_accuracy: 0.8268 - val_loss: 0.4430 - val_bounding_box_loss: 0.0312 - val_class_label_loss: 0.4118 - val_bounding_box_accuracy: 0.6765 - val_class_label_accuracy: 0.9246\n",
            "Epoch 6/10\n",
            "98/98 [==============================] - 24s 245ms/step - loss: 0.5560 - bounding_box_loss: 0.0191 - class_label_loss: 0.5369 - bounding_box_accuracy: 0.7804 - class_label_accuracy: 0.8412 - val_loss: 0.4216 - val_bounding_box_loss: 0.0315 - val_class_label_loss: 0.3901 - val_bounding_box_accuracy: 0.6854 - val_class_label_accuracy: 0.9246\n",
            "Epoch 7/10\n",
            "98/98 [==============================] - 24s 246ms/step - loss: 0.5043 - bounding_box_loss: 0.0184 - class_label_loss: 0.4859 - bounding_box_accuracy: 0.7871 - class_label_accuracy: 0.8662 - val_loss: 0.3896 - val_bounding_box_loss: 0.0321 - val_class_label_loss: 0.3574 - val_bounding_box_accuracy: 0.6739 - val_class_label_accuracy: 0.9297\n",
            "Epoch 8/10\n",
            "98/98 [==============================] - 24s 245ms/step - loss: 0.5012 - bounding_box_loss: 0.0179 - class_label_loss: 0.4833 - bounding_box_accuracy: 0.7859 - class_label_accuracy: 0.8726 - val_loss: 0.3762 - val_bounding_box_loss: 0.0320 - val_class_label_loss: 0.3443 - val_bounding_box_accuracy: 0.6777 - val_class_label_accuracy: 0.9309\n",
            "Epoch 9/10\n",
            "98/98 [==============================] - 24s 245ms/step - loss: 0.4476 - bounding_box_loss: 0.0178 - class_label_loss: 0.4298 - bounding_box_accuracy: 0.7942 - class_label_accuracy: 0.8870 - val_loss: 0.3739 - val_bounding_box_loss: 0.0325 - val_class_label_loss: 0.3413 - val_bounding_box_accuracy: 0.6944 - val_class_label_accuracy: 0.9348\n",
            "Epoch 10/10\n",
            "98/98 [==============================] - 24s 245ms/step - loss: 0.4500 - bounding_box_loss: 0.0172 - class_label_loss: 0.4328 - bounding_box_accuracy: 0.8047 - class_label_accuracy: 0.8902 - val_loss: 0.3513 - val_bounding_box_loss: 0.0328 - val_class_label_loss: 0.3186 - val_bounding_box_accuracy: 0.6995 - val_class_label_accuracy: 0.9476\n"
          ]
        }
      ]
    },
    {
      "cell_type": "code",
      "metadata": {
        "id": "b_NEFiwzcFkQ"
      },
      "source": [
        "solution = pd.DataFrame({'Image_ID':ids})\n",
        "solution['class'] = label\n",
        "solution['confidence'] = confidence\n",
        "solution['ymin'] = ymin\n",
        "solution['xmin'] = xmin\n",
        "solution['ymax'] = ymax\n",
        "solution['xmax'] = xmax\n"
      ],
      "execution_count": null,
      "outputs": []
    },
    {
      "cell_type": "code",
      "metadata": {
        "id": "4A9WXEK9j1bi"
      },
      "source": [
        "submission = solution.copy()"
      ],
      "execution_count": null,
      "outputs": []
    },
    {
      "cell_type": "code",
      "metadata": {
        "id": "KP35uTtvj4sj",
        "colab": {
          "base_uri": "https://localhost:8080/",
          "height": 203
        },
        "outputId": "73edfe20-dda3-4acd-c210-0edb3a8983ff"
      },
      "source": [
        "submission.rename({0:'Image_ID'},axis='index')\n",
        "submission.head()"
      ],
      "execution_count": null,
      "outputs": [
        {
          "output_type": "execute_result",
          "data": {
            "text/html": [
              "<div>\n",
              "<style scoped>\n",
              "    .dataframe tbody tr th:only-of-type {\n",
              "        vertical-align: middle;\n",
              "    }\n",
              "\n",
              "    .dataframe tbody tr th {\n",
              "        vertical-align: top;\n",
              "    }\n",
              "\n",
              "    .dataframe thead th {\n",
              "        text-align: right;\n",
              "    }\n",
              "</style>\n",
              "<table border=\"1\" class=\"dataframe\">\n",
              "  <thead>\n",
              "    <tr style=\"text-align: right;\">\n",
              "      <th></th>\n",
              "      <th>Image_ID</th>\n",
              "      <th>class</th>\n",
              "      <th>confidence</th>\n",
              "      <th>ymin</th>\n",
              "      <th>xmin</th>\n",
              "      <th>ymax</th>\n",
              "      <th>xmax</th>\n",
              "    </tr>\n",
              "  </thead>\n",
              "  <tbody>\n",
              "    <tr>\n",
              "      <th>0</th>\n",
              "      <td>ID_IUJJG62B</td>\n",
              "      <td>fruit_healthy</td>\n",
              "      <td>1.000000</td>\n",
              "      <td>279.840240</td>\n",
              "      <td>289.366791</td>\n",
              "      <td>426.820618</td>\n",
              "      <td>460.809418</td>\n",
              "    </tr>\n",
              "    <tr>\n",
              "      <th>1</th>\n",
              "      <td>ID_ZPNDRD4T</td>\n",
              "      <td>fruit_healthy</td>\n",
              "      <td>0.999998</td>\n",
              "      <td>263.239075</td>\n",
              "      <td>125.332031</td>\n",
              "      <td>404.609070</td>\n",
              "      <td>268.275757</td>\n",
              "    </tr>\n",
              "    <tr>\n",
              "      <th>2</th>\n",
              "      <td>ID_AHFYB64P</td>\n",
              "      <td>fruit_woodiness</td>\n",
              "      <td>0.999990</td>\n",
              "      <td>227.531403</td>\n",
              "      <td>217.595474</td>\n",
              "      <td>434.598969</td>\n",
              "      <td>378.175995</td>\n",
              "    </tr>\n",
              "    <tr>\n",
              "      <th>3</th>\n",
              "      <td>ID_L8JZLNTF</td>\n",
              "      <td>fruit_healthy</td>\n",
              "      <td>1.000000</td>\n",
              "      <td>182.103851</td>\n",
              "      <td>118.848465</td>\n",
              "      <td>410.043030</td>\n",
              "      <td>349.787415</td>\n",
              "    </tr>\n",
              "    <tr>\n",
              "      <th>4</th>\n",
              "      <td>ID_IFMUXGPL</td>\n",
              "      <td>fruit_woodiness</td>\n",
              "      <td>1.000000</td>\n",
              "      <td>157.412552</td>\n",
              "      <td>248.510040</td>\n",
              "      <td>343.166901</td>\n",
              "      <td>394.465088</td>\n",
              "    </tr>\n",
              "  </tbody>\n",
              "</table>\n",
              "</div>"
            ],
            "text/plain": [
              "      Image_ID            class  confidence  ...        xmin        ymax        xmax\n",
              "0  ID_IUJJG62B    fruit_healthy    1.000000  ...  289.366791  426.820618  460.809418\n",
              "1  ID_ZPNDRD4T    fruit_healthy    0.999998  ...  125.332031  404.609070  268.275757\n",
              "2  ID_AHFYB64P  fruit_woodiness    0.999990  ...  217.595474  434.598969  378.175995\n",
              "3  ID_L8JZLNTF    fruit_healthy    1.000000  ...  118.848465  410.043030  349.787415\n",
              "4  ID_IFMUXGPL  fruit_woodiness    1.000000  ...  248.510040  343.166901  394.465088\n",
              "\n",
              "[5 rows x 7 columns]"
            ]
          },
          "metadata": {},
          "execution_count": 36
        }
      ]
    },
    {
      "cell_type": "code",
      "metadata": {
        "id": "6zO7-yyxlXe8"
      },
      "source": [
        "submission.to_csv('submission.csv', index=False)\n"
      ],
      "execution_count": null,
      "outputs": []
    }
  ]
}